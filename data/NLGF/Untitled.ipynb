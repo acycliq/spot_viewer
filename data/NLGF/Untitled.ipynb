{
 "cells": [
  {
   "cell_type": "code",
   "execution_count": 8,
   "id": "59b729b4-c38d-48af-ac6a-ad6ee9e10c3d",
   "metadata": {},
   "outputs": [],
   "source": [
    "import pandas as pd"
   ]
  },
  {
   "cell_type": "code",
   "execution_count": 9,
   "id": "92956d0d-b2ab-4682-a9e2-99689b4331dc",
   "metadata": {},
   "outputs": [],
   "source": [
    "file_in = 'pciseq_omp.csv'"
   ]
  },
  {
   "cell_type": "code",
   "execution_count": 14,
   "id": "ad021b19-451e-4c7e-a204-c822ed84be91",
   "metadata": {},
   "outputs": [],
   "source": [
    "df = pd.read_csv(file_in).rename({'z_stack': 'z'}, axis=1)\n",
    "df.to_csv('geneData.tsv', sep='\\t', index=False)"
   ]
  },
  {
   "cell_type": "code",
   "execution_count": 5,
   "id": "a75b9d27-4f90-4716-a4ba-151e14ad8021",
   "metadata": {},
   "outputs": [
    {
     "data": {
      "text/html": [
       "<div>\n",
       "<style scoped>\n",
       "    .dataframe tbody tr th:only-of-type {\n",
       "        vertical-align: middle;\n",
       "    }\n",
       "\n",
       "    .dataframe tbody tr th {\n",
       "        vertical-align: top;\n",
       "    }\n",
       "\n",
       "    .dataframe thead th {\n",
       "        text-align: right;\n",
       "    }\n",
       "</style>\n",
       "<table border=\"1\" class=\"dataframe\">\n",
       "  <thead>\n",
       "    <tr style=\"text-align: right;\">\n",
       "      <th></th>\n",
       "      <th>y</th>\n",
       "      <th>x</th>\n",
       "      <th>z</th>\n",
       "      <th>Gene</th>\n",
       "    </tr>\n",
       "  </thead>\n",
       "  <tbody>\n",
       "    <tr>\n",
       "      <th>0</th>\n",
       "      <td>144.00000</td>\n",
       "      <td>1021.000000</td>\n",
       "      <td>22.140073</td>\n",
       "      <td>1500015O10Rik</td>\n",
       "    </tr>\n",
       "    <tr>\n",
       "      <th>1</th>\n",
       "      <td>188.00000</td>\n",
       "      <td>1591.000000</td>\n",
       "      <td>46.140073</td>\n",
       "      <td>1500015O10Rik</td>\n",
       "    </tr>\n",
       "    <tr>\n",
       "      <th>2</th>\n",
       "      <td>195.00000</td>\n",
       "      <td>1593.000000</td>\n",
       "      <td>46.140073</td>\n",
       "      <td>1500015O10Rik</td>\n",
       "    </tr>\n",
       "    <tr>\n",
       "      <th>3</th>\n",
       "      <td>206.00000</td>\n",
       "      <td>1007.000000</td>\n",
       "      <td>21.140073</td>\n",
       "      <td>1500015O10Rik</td>\n",
       "    </tr>\n",
       "    <tr>\n",
       "      <th>4</th>\n",
       "      <td>208.00000</td>\n",
       "      <td>1029.000000</td>\n",
       "      <td>30.140073</td>\n",
       "      <td>1500015O10Rik</td>\n",
       "    </tr>\n",
       "    <tr>\n",
       "      <th>...</th>\n",
       "      <td>...</td>\n",
       "      <td>...</td>\n",
       "      <td>...</td>\n",
       "      <td>...</td>\n",
       "    </tr>\n",
       "    <tr>\n",
       "      <th>410815</th>\n",
       "      <td>1846.74783</td>\n",
       "      <td>8225.807165</td>\n",
       "      <td>21.889103</td>\n",
       "      <td>Yjefn3</td>\n",
       "    </tr>\n",
       "    <tr>\n",
       "      <th>410816</th>\n",
       "      <td>1884.74783</td>\n",
       "      <td>9197.807165</td>\n",
       "      <td>23.889103</td>\n",
       "      <td>Yjefn3</td>\n",
       "    </tr>\n",
       "    <tr>\n",
       "      <th>410817</th>\n",
       "      <td>2010.74783</td>\n",
       "      <td>9850.807165</td>\n",
       "      <td>48.889103</td>\n",
       "      <td>Yjefn3</td>\n",
       "    </tr>\n",
       "    <tr>\n",
       "      <th>410818</th>\n",
       "      <td>2114.74783</td>\n",
       "      <td>8647.807165</td>\n",
       "      <td>23.889103</td>\n",
       "      <td>Yjefn3</td>\n",
       "    </tr>\n",
       "    <tr>\n",
       "      <th>410819</th>\n",
       "      <td>2133.74783</td>\n",
       "      <td>9802.807165</td>\n",
       "      <td>49.889103</td>\n",
       "      <td>Yjefn3</td>\n",
       "    </tr>\n",
       "  </tbody>\n",
       "</table>\n",
       "<p>410820 rows × 4 columns</p>\n",
       "</div>"
      ],
      "text/plain": [
       "                 y            x          z           Gene\n",
       "0        144.00000  1021.000000  22.140073  1500015O10Rik\n",
       "1        188.00000  1591.000000  46.140073  1500015O10Rik\n",
       "2        195.00000  1593.000000  46.140073  1500015O10Rik\n",
       "3        206.00000  1007.000000  21.140073  1500015O10Rik\n",
       "4        208.00000  1029.000000  30.140073  1500015O10Rik\n",
       "...            ...          ...        ...            ...\n",
       "410815  1846.74783  8225.807165  21.889103         Yjefn3\n",
       "410816  1884.74783  9197.807165  23.889103         Yjefn3\n",
       "410817  2010.74783  9850.807165  48.889103         Yjefn3\n",
       "410818  2114.74783  8647.807165  23.889103         Yjefn3\n",
       "410819  2133.74783  9802.807165  49.889103         Yjefn3\n",
       "\n",
       "[410820 rows x 4 columns]"
      ]
     },
     "execution_count": 5,
     "metadata": {},
     "output_type": "execute_result"
    }
   ],
   "source": [
    "df"
   ]
  },
  {
   "cell_type": "code",
   "execution_count": 12,
   "id": "2f12daca-ec8e-4fca-bc0f-04d7ff50df2c",
   "metadata": {},
   "outputs": [
    {
     "data": {
      "text/plain": [
       "9933.807164710946"
      ]
     },
     "execution_count": 12,
     "metadata": {},
     "output_type": "execute_result"
    }
   ],
   "source": [
    "df.x.max()"
   ]
  },
  {
   "cell_type": "code",
   "execution_count": 13,
   "id": "490fecf1-e037-43d8-8a53-9bf0ce4af917",
   "metadata": {},
   "outputs": [
    {
     "data": {
      "text/plain": [
       "2309.747829596396"
      ]
     },
     "execution_count": 13,
     "metadata": {},
     "output_type": "execute_result"
    }
   ],
   "source": [
    "df.y.max()"
   ]
  },
  {
   "cell_type": "code",
   "execution_count": null,
   "id": "c4d3c02c-054d-465b-9a1e-19837a249e60",
   "metadata": {},
   "outputs": [],
   "source": []
  }
 ],
 "metadata": {
  "kernelspec": {
   "display_name": "Python 3 (ipykernel)",
   "language": "python",
   "name": "python3"
  },
  "language_info": {
   "codemirror_mode": {
    "name": "ipython",
    "version": 3
   },
   "file_extension": ".py",
   "mimetype": "text/x-python",
   "name": "python",
   "nbconvert_exporter": "python",
   "pygments_lexer": "ipython3",
   "version": "3.8.13"
  }
 },
 "nbformat": 4,
 "nbformat_minor": 5
}
